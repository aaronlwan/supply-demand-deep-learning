{
  "nbformat": 4,
  "nbformat_minor": 0,
  "metadata": {
    "colab": {
      "provenance": [],
      "collapsed_sections": [],
      "mount_file_id": "1CDXVJWwtnvFjOi_rZ_Jl_2cqOJl2J67y",
      "authorship_tag": "ABX9TyNbX2RpXBZdY+cLOm3w1Bd6"
    },
    "kernelspec": {
      "name": "python3",
      "display_name": "Python 3"
    },
    "language_info": {
      "name": "python"
    }
  },
  "cells": [
    {
      "cell_type": "markdown",
      "source": [
        "Scripts for Identifying Supply and Demand Zones for Stocks"
      ],
      "metadata": {
        "id": "yjJ3toxxg_6Q"
      }
    },
    {
      "cell_type": "code",
      "execution_count": 3,
      "metadata": {
        "id": "DtHz2VVSbrRm",
        "colab": {
          "base_uri": "https://localhost:8080/"
        },
        "outputId": "49297da1-9896-4ba0-89f3-f2f35c4b18c3"
      },
      "outputs": [
        {
          "output_type": "stream",
          "name": "stdout",
          "text": [
            "Looking in indexes: https://pypi.org/simple, https://us-python.pkg.dev/colab-wheels/public/simple/\n",
            "Requirement already satisfied: mplfinance in /usr/local/lib/python3.7/dist-packages (0.12.9b1)\n",
            "Requirement already satisfied: pandas in /usr/local/lib/python3.7/dist-packages (from mplfinance) (1.3.5)\n",
            "Requirement already satisfied: matplotlib in /usr/local/lib/python3.7/dist-packages (from mplfinance) (3.2.2)\n",
            "Requirement already satisfied: cycler>=0.10 in /usr/local/lib/python3.7/dist-packages (from matplotlib->mplfinance) (0.11.0)\n",
            "Requirement already satisfied: numpy>=1.11 in /usr/local/lib/python3.7/dist-packages (from matplotlib->mplfinance) (1.21.6)\n",
            "Requirement already satisfied: python-dateutil>=2.1 in /usr/local/lib/python3.7/dist-packages (from matplotlib->mplfinance) (2.8.2)\n",
            "Requirement already satisfied: kiwisolver>=1.0.1 in /usr/local/lib/python3.7/dist-packages (from matplotlib->mplfinance) (1.4.4)\n",
            "Requirement already satisfied: pyparsing!=2.0.4,!=2.1.2,!=2.1.6,>=2.0.1 in /usr/local/lib/python3.7/dist-packages (from matplotlib->mplfinance) (3.0.9)\n",
            "Requirement already satisfied: typing-extensions in /usr/local/lib/python3.7/dist-packages (from kiwisolver>=1.0.1->matplotlib->mplfinance) (4.1.1)\n",
            "Requirement already satisfied: six>=1.5 in /usr/local/lib/python3.7/dist-packages (from python-dateutil>=2.1->matplotlib->mplfinance) (1.15.0)\n",
            "Requirement already satisfied: pytz>=2017.3 in /usr/local/lib/python3.7/dist-packages (from pandas->mplfinance) (2022.2.1)\n"
          ]
        }
      ],
      "source": [
        "# Imports\n",
        "!pip install mplfinance\n",
        "import numpy as np\n",
        "import pandas as pd\n",
        "import tensorflow as tf\n",
        "import mplfinance as mpl"
      ]
    },
    {
      "cell_type": "code",
      "source": [
        "# Load Data\n",
        "spy_hourly = pd.DataFrame(np.array(pd.read_csv('/content/drive/MyDrive/SPY_qjrt28/SPY_1hour.txt', header=None)), columns=['Time', 'Open', 'High', 'Low', 'Close', 'Volume'])\n",
        "spy_thirty_min = pd.DataFrame(np.array(pd.read_csv('/content/drive/MyDrive/SPY_qjrt28/SPY_30min.txt', header=None)), columns=['Time', 'Open', 'High', 'Low', 'Close', 'Volume'])\n",
        "five_min_data = pd.DataFrame(np.array(pd.read_csv('/content/drive/MyDrive/SPY_qjrt28/SPY_5min.txt', header=None)), columns=['Time', 'Open', 'High', 'Low', 'Close', 'Volume'])"
      ],
      "metadata": {
        "id": "dnPZUVj3b34R"
      },
      "execution_count": 4,
      "outputs": []
    },
    {
      "cell_type": "code",
      "execution_count": 5,
      "metadata": {
        "id": "gN8NqCyzQ4I_"
      },
      "outputs": [],
      "source": [
        "# Helper Functions\n",
        "def get_change(candle):\n",
        "  diff = candle[4]/candle[1]\n",
        "  if candle[4] > candle[1]:\n",
        "    change = diff - 1\n",
        "  else:\n",
        "    change = 1 - diff\n",
        "\n",
        "  return change\n",
        "\n",
        "def no_long_wicks(candle, thresh_pct):\n",
        "  thresh = thresh_pct*get_change(candle)\n",
        "  candle_open, candle_high, candle_low, candle_close = candle[1], candle[2], candle[3], candle[4]\n",
        "  if candle_close > candle_open:\n",
        "    if candle_high/candle_close - 1 < thresh and candle_open/candle_low - 1 < thresh:\n",
        "      return True\n",
        "  else:\n",
        "    if candle_high/candle_open - 1 < thresh and candle_close/candle_low - 1 < thresh:\n",
        "      return True\n",
        "  return False\n",
        "\n",
        "\n",
        "def is_basing(candle, next_candle_change, thresh_pct):\n",
        "  \"\"\" Criterion for basing candle\n",
        "  1. Must be less than half of the next candle\n",
        "  \"\"\"\n",
        "  if get_change(candle) > 0.5*next_candle_change:\n",
        "    return False\n",
        "  \n",
        "  \"\"\" \n",
        "  2. Must have small wicks, meaning if it is a green candle, high is close to \n",
        "  close and low is close to open, and if it is red, then vice versa.\n",
        "\n",
        "  \"Closeness\" is dependent on the candle's change. Define closeness threshold as within thresh_pct of the candle's change \n",
        "  \"\"\"\n",
        "  return no_long_wicks(candle, thresh_pct)"
      ]
    },
    {
      "cell_type": "code",
      "execution_count": 6,
      "metadata": {
        "id": "Y1Vx96qQVJh_"
      },
      "outputs": [],
      "source": [
        "def is_zone(candle, next_candle, large_change, thresh_pct, supply, demand):\n",
        "\n",
        "  # Criterion for Supply/Demand Zone:\n",
        "  # 1. Next candle must have large % change between open and close\n",
        "  if get_change(next_candle) >= large_change:\n",
        "    # 2. Next candle must not have long wicks\n",
        "    if no_long_wicks(next_candle, thresh_pct):\n",
        "      # 3. Must have basing candle\n",
        "      if is_basing(candle, get_change(next_candle), thresh_pct):\n",
        "        if next_candle[4] > next_candle[1] and demand:\n",
        "          return True\n",
        "        elif next_candle[4] < next_candle[1] and supply:\n",
        "          return True\n",
        "  return False"
      ]
    },
    {
      "cell_type": "code",
      "source": [
        "def get_zones(data, large_change, thresh_pct, supply, demand):\n",
        "  zones = []\n",
        "  for i in range(len(data.values)):\n",
        "    if i + 1 < len(data.values):\n",
        "      candle = data.values[i]\n",
        "      next_candle = data.values[i + 1]\n",
        "      if is_zone(candle, next_candle, large_change, thresh_pct, supply, demand):\n",
        "          zones.append([candle, next_candle])\n",
        "  return np.array(zones)"
      ],
      "metadata": {
        "id": "FTg_rzg8gNPx"
      },
      "execution_count": 7,
      "outputs": []
    },
    {
      "cell_type": "code",
      "source": [
        "zones = get_zones(spy_thirty_min, 0.003, 0.5, True, True)\n",
        "print(zones.shape)"
      ],
      "metadata": {
        "colab": {
          "base_uri": "https://localhost:8080/"
        },
        "id": "-JPIdzD8gQ1B",
        "outputId": "4107ad70-fda0-498d-e4ae-d4e7a3900e09"
      },
      "execution_count": 13,
      "outputs": [
        {
          "output_type": "stream",
          "name": "stdout",
          "text": [
            "(775, 2, 6)\n"
          ]
        }
      ]
    },
    {
      "cell_type": "code",
      "source": [
        "# Sample of a Random Zone\n",
        "random = np.random.randint(0, len(zones) - 1)\n",
        "plot_zones = zones[random]\n",
        "plot_zones = pd.DataFrame(plot_zones[:, [1, 2, 3, 4]], columns=['Open', 'High', 'Low', 'Close'], index=pd.to_datetime(plot_zones[:, 0])).astype('float32')\n",
        "mc = mpl.make_marketcolors(up='green',down='red')\n",
        "s  = mpl.make_mpf_style(marketcolors=mc)\n",
        "mpl.plot(\n",
        "    plot_zones,\n",
        "    type=\"candle\", \n",
        "    style=s,\n",
        "    mav = (10000),\n",
        "    title = f\"SPY Zone Example\",  \n",
        "    )"
      ],
      "metadata": {
        "colab": {
          "base_uri": "https://localhost:8080/",
          "height": 553
        },
        "id": "cjI64aHZgYob",
        "outputId": "1b2d23fe-23ac-40dc-dae7-090ab681c4bc"
      },
      "execution_count": 25,
      "outputs": [
        {
          "output_type": "display_data",
          "data": {
            "text/plain": [
              "<Figure size 800x575 with 2 Axes>"
            ],
            "image/png": "[encoded data removed]"
          },
          "metadata": {}
        }
      ]
    }
  ]
}